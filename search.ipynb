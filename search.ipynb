{
 "cells": [
  {
   "cell_type": "code",
   "execution_count": 1,
   "id": "8a875153-4240-4caa-b911-bfee69962c34",
   "metadata": {},
   "outputs": [
    {
     "name": "stderr",
     "output_type": "stream",
     "text": [
      "'wc' is not recognized as an internal or external command,\n",
      "operable program or batch file.\n"
     ]
    }
   ],
   "source": [
    "!wc -l goodreads_books.json.gz"
   ]
  },
  {
   "cell_type": "code",
   "execution_count": 2,
   "id": "0ca3009c-b842-49c0-9337-f1301684b84a",
   "metadata": {},
   "outputs": [
    {
     "name": "stderr",
     "output_type": "stream",
     "text": [
      "'ls' is not recognized as an internal or external command,\n",
      "operable program or batch file.\n"
     ]
    }
   ],
   "source": [
    "!ls -lh | grep goodreads_books.json.gz"
   ]
  },
  {
   "cell_type": "code",
   "execution_count": 3,
   "id": "6209534a-b253-4a2d-8eb0-e5dee9046cf7",
   "metadata": {},
   "outputs": [],
   "source": [
    "import gzip\n",
    "\n",
    "with gzip.open(\"goodreads_books.json.gz\") as f:\n",
    "    line = f.readline()"
   ]
  },
  {
   "cell_type": "code",
   "execution_count": 4,
   "id": "c8fffd7b-0e1d-4940-8bb0-a5f79deed7fc",
   "metadata": {},
   "outputs": [
    {
     "data": {
      "text/plain": [
       "b'{\"isbn\": \"0312853122\", \"text_reviews_count\": \"1\", \"series\": [], \"country_code\": \"US\", \"language_code\": \"\", \"popular_shelves\": [{\"count\": \"3\", \"name\": \"to-read\"}, {\"count\": \"1\", \"name\": \"p\"}, {\"count\": \"1\", \"name\": \"collection\"}, {\"count\": \"1\", \"name\": \"w-c-fields\"}, {\"count\": \"1\", \"name\": \"biography\"}], \"asin\": \"\", \"is_ebook\": \"false\", \"average_rating\": \"4.00\", \"kindle_asin\": \"\", \"similar_books\": [], \"description\": \"\", \"format\": \"Paperback\", \"link\": \"https://www.goodreads.com/book/show/5333265-w-c-fields\", \"authors\": [{\"author_id\": \"604031\", \"role\": \"\"}], \"publisher\": \"St. Martin\\'s Press\", \"num_pages\": \"256\", \"publication_day\": \"1\", \"isbn13\": \"9780312853129\", \"publication_month\": \"9\", \"edition_information\": \"\", \"publication_year\": \"1984\", \"url\": \"https://www.goodreads.com/book/show/5333265-w-c-fields\", \"image_url\": \"https://images.gr-assets.com/books/1310220028m/5333265.jpg\", \"book_id\": \"5333265\", \"ratings_count\": \"3\", \"work_id\": \"5400751\", \"title\": \"W.C. Fields: A Life on Film\", \"title_without_series\": \"W.C. Fields: A Life on Film\"}\\n'"
      ]
     },
     "execution_count": 4,
     "metadata": {},
     "output_type": "execute_result"
    }
   ],
   "source": [
    "line"
   ]
  },
  {
   "cell_type": "code",
   "execution_count": 5,
   "id": "3baba6d9-1ce8-4c75-ad16-49f60c910110",
   "metadata": {},
   "outputs": [
    {
     "data": {
      "text/plain": [
       "{'isbn': '0312853122',\n",
       " 'text_reviews_count': '1',\n",
       " 'series': [],\n",
       " 'country_code': 'US',\n",
       " 'language_code': '',\n",
       " 'popular_shelves': [{'count': '3', 'name': 'to-read'},\n",
       "  {'count': '1', 'name': 'p'},\n",
       "  {'count': '1', 'name': 'collection'},\n",
       "  {'count': '1', 'name': 'w-c-fields'},\n",
       "  {'count': '1', 'name': 'biography'}],\n",
       " 'asin': '',\n",
       " 'is_ebook': 'false',\n",
       " 'average_rating': '4.00',\n",
       " 'kindle_asin': '',\n",
       " 'similar_books': [],\n",
       " 'description': '',\n",
       " 'format': 'Paperback',\n",
       " 'link': 'https://www.goodreads.com/book/show/5333265-w-c-fields',\n",
       " 'authors': [{'author_id': '604031', 'role': ''}],\n",
       " 'publisher': \"St. Martin's Press\",\n",
       " 'num_pages': '256',\n",
       " 'publication_day': '1',\n",
       " 'isbn13': '9780312853129',\n",
       " 'publication_month': '9',\n",
       " 'edition_information': '',\n",
       " 'publication_year': '1984',\n",
       " 'url': 'https://www.goodreads.com/book/show/5333265-w-c-fields',\n",
       " 'image_url': 'https://images.gr-assets.com/books/1310220028m/5333265.jpg',\n",
       " 'book_id': '5333265',\n",
       " 'ratings_count': '3',\n",
       " 'work_id': '5400751',\n",
       " 'title': 'W.C. Fields: A Life on Film',\n",
       " 'title_without_series': 'W.C. Fields: A Life on Film'}"
      ]
     },
     "execution_count": 5,
     "metadata": {},
     "output_type": "execute_result"
    }
   ],
   "source": [
    "import json \n",
    "\n",
    "data = json.loads(line)\n",
    "data"
   ]
  },
  {
   "cell_type": "code",
   "execution_count": 6,
   "id": "04522149-1baa-4fc4-869d-d5edcdea3c0d",
   "metadata": {},
   "outputs": [],
   "source": [
    "def parse_fields(line):\n",
    "    data = json.loads(line)\n",
    "    return {\n",
    "        \"book_id\": data[\"book_id\"], \n",
    "        \"title\": data[\"title_without_series\"], \n",
    "        \"ratings\": data[\"ratings_count\"], \n",
    "        \"url\": data[\"url\"], \n",
    "        \"cover_image\": data[\"image_url\"]\n",
    "    }"
   ]
  },
  {
   "cell_type": "code",
   "execution_count": 7,
   "id": "a4cc2647-b4dd-4d52-9c9d-83449a1cbbeb",
   "metadata": {},
   "outputs": [],
   "source": [
    "books_titles = []\n",
    "with gzip.open(\"goodreads_books.json.gz\") as f :\n",
    "    while True:\n",
    "        line = f.readline()\n",
    "        if not line:\n",
    "            break \n",
    "        fields = parse_fields(line)\n",
    "        try:\n",
    "            ratings = int(fields[\"ratings\"])\n",
    "        except ValueError:\n",
    "            continue\n",
    "        if ratings > 5:\n",
    "            books_titles.append(fields)"
   ]
  },
  {
   "cell_type": "code",
   "execution_count": 8,
   "id": "83cbc0ce-c4b0-4560-b1ea-f180538e88ad",
   "metadata": {},
   "outputs": [],
   "source": [
    "import pandas as pd\n",
    "\n",
    "titles = pd.DataFrame.from_dict(books_titles)"
   ]
  },
  {
   "cell_type": "code",
   "execution_count": 9,
   "id": "5960cef7-cda9-470d-98f6-15e30b00e0d0",
   "metadata": {},
   "outputs": [],
   "source": [
    "titles[\"ratings\"] = pd.to_numeric(titles[\"ratings\"])"
   ]
  },
  {
   "cell_type": "code",
   "execution_count": 10,
   "id": "33dd770e-9547-4756-8b18-222804e692ff",
   "metadata": {},
   "outputs": [],
   "source": [
    "titles[\"mod_title\"] = titles[\"title\"].str.replace(\"[^a-zA-Z0-9 ]\", \"\", regex=True)"
   ]
  },
  {
   "cell_type": "code",
   "execution_count": 11,
   "id": "6ee27196-a6f7-4a2b-8a39-40d03df33b43",
   "metadata": {},
   "outputs": [],
   "source": [
    "titles[\"mod_title\"] = titles[\"mod_title\"].str.lower()"
   ]
  },
  {
   "cell_type": "code",
   "execution_count": 12,
   "id": "ee2e04c5-9126-4950-a0c3-9cfdacbc07d4",
   "metadata": {},
   "outputs": [],
   "source": [
    "titles[\"mod_title\"] = titles[\"mod_title\"].str.replace(\"\\s+\", \" \", regex=True)"
   ]
  },
  {
   "cell_type": "code",
   "execution_count": 13,
   "id": "53a60f76-1d94-4e58-be6a-b245ef57c5bc",
   "metadata": {},
   "outputs": [],
   "source": [
    "titles.to_json(\"books_titles.json\")"
   ]
  },
  {
   "cell_type": "code",
   "execution_count": 14,
   "id": "a3874f08-6e88-4e48-8c7d-516fa52c0574",
   "metadata": {},
   "outputs": [
    {
     "data": {
      "text/html": [
       "<div>\n",
       "<style scoped>\n",
       "    .dataframe tbody tr th:only-of-type {\n",
       "        vertical-align: middle;\n",
       "    }\n",
       "\n",
       "    .dataframe tbody tr th {\n",
       "        vertical-align: top;\n",
       "    }\n",
       "\n",
       "    .dataframe thead th {\n",
       "        text-align: right;\n",
       "    }\n",
       "</style>\n",
       "<table border=\"1\" class=\"dataframe\">\n",
       "  <thead>\n",
       "    <tr style=\"text-align: right;\">\n",
       "      <th></th>\n",
       "      <th>book_id</th>\n",
       "      <th>title</th>\n",
       "      <th>ratings</th>\n",
       "      <th>url</th>\n",
       "      <th>cover_image</th>\n",
       "      <th>mod_title</th>\n",
       "    </tr>\n",
       "  </thead>\n",
       "  <tbody>\n",
       "    <tr>\n",
       "      <th>0</th>\n",
       "      <td>1333909</td>\n",
       "      <td>Good Harbor</td>\n",
       "      <td>10</td>\n",
       "      <td>https://www.goodreads.com/book/show/1333909.Go...</td>\n",
       "      <td>https://s.gr-assets.com/assets/nophoto/book/11...</td>\n",
       "      <td>good harbor</td>\n",
       "    </tr>\n",
       "    <tr>\n",
       "      <th>1</th>\n",
       "      <td>7327624</td>\n",
       "      <td>The Unschooled Wizard (Sun Wolf and Starhawk, ...</td>\n",
       "      <td>140</td>\n",
       "      <td>https://www.goodreads.com/book/show/7327624-th...</td>\n",
       "      <td>https://images.gr-assets.com/books/1304100136m...</td>\n",
       "      <td>the unschooled wizard sun wolf and starhawk 12</td>\n",
       "    </tr>\n",
       "    <tr>\n",
       "      <th>2</th>\n",
       "      <td>6066819</td>\n",
       "      <td>Best Friends Forever</td>\n",
       "      <td>51184</td>\n",
       "      <td>https://www.goodreads.com/book/show/6066819-be...</td>\n",
       "      <td>https://s.gr-assets.com/assets/nophoto/book/11...</td>\n",
       "      <td>best friends forever</td>\n",
       "    </tr>\n",
       "    <tr>\n",
       "      <th>3</th>\n",
       "      <td>287140</td>\n",
       "      <td>Runic Astrology: Starcraft and Timekeeping in ...</td>\n",
       "      <td>15</td>\n",
       "      <td>https://www.goodreads.com/book/show/287140.Run...</td>\n",
       "      <td>https://images.gr-assets.com/books/1413219371m...</td>\n",
       "      <td>runic astrology starcraft and timekeeping in t...</td>\n",
       "    </tr>\n",
       "    <tr>\n",
       "      <th>4</th>\n",
       "      <td>287141</td>\n",
       "      <td>The Aeneid for Boys and Girls</td>\n",
       "      <td>46</td>\n",
       "      <td>https://www.goodreads.com/book/show/287141.The...</td>\n",
       "      <td>https://s.gr-assets.com/assets/nophoto/book/11...</td>\n",
       "      <td>the aeneid for boys and girls</td>\n",
       "    </tr>\n",
       "    <tr>\n",
       "      <th>...</th>\n",
       "      <td>...</td>\n",
       "      <td>...</td>\n",
       "      <td>...</td>\n",
       "      <td>...</td>\n",
       "      <td>...</td>\n",
       "      <td>...</td>\n",
       "    </tr>\n",
       "    <tr>\n",
       "      <th>1782574</th>\n",
       "      <td>3084038</td>\n",
       "      <td>This Sceptred Isle, Vol. 10: The Age of Victor...</td>\n",
       "      <td>12</td>\n",
       "      <td>https://www.goodreads.com/book/show/3084038-th...</td>\n",
       "      <td>https://images.gr-assets.com/books/1494763458m...</td>\n",
       "      <td>this sceptred isle vol 10 the age of victoria ...</td>\n",
       "    </tr>\n",
       "    <tr>\n",
       "      <th>1782575</th>\n",
       "      <td>26168430</td>\n",
       "      <td>Sherlock Holmes and the July Crisis</td>\n",
       "      <td>6</td>\n",
       "      <td>https://www.goodreads.com/book/show/26168430-s...</td>\n",
       "      <td>https://images.gr-assets.com/books/1440592011m...</td>\n",
       "      <td>sherlock holmes and the july crisis</td>\n",
       "    </tr>\n",
       "    <tr>\n",
       "      <th>1782576</th>\n",
       "      <td>2342551</td>\n",
       "      <td>The Children's Classic Poetry Collection</td>\n",
       "      <td>36</td>\n",
       "      <td>https://www.goodreads.com/book/show/2342551.Th...</td>\n",
       "      <td>https://s.gr-assets.com/assets/nophoto/book/11...</td>\n",
       "      <td>the childrens classic poetry collection</td>\n",
       "    </tr>\n",
       "    <tr>\n",
       "      <th>1782577</th>\n",
       "      <td>22017381</td>\n",
       "      <td>101 Nights: Volume One (101 Nights, #1-3)</td>\n",
       "      <td>70</td>\n",
       "      <td>https://www.goodreads.com/book/show/22017381-1...</td>\n",
       "      <td>https://images.gr-assets.com/books/1398621236m...</td>\n",
       "      <td>101 nights volume one 101 nights 13</td>\n",
       "    </tr>\n",
       "    <tr>\n",
       "      <th>1782578</th>\n",
       "      <td>11419866</td>\n",
       "      <td>The Spanish Duke's Virgin Bride (Innocent Mist...</td>\n",
       "      <td>7</td>\n",
       "      <td>https://www.goodreads.com/book/show/11419866-t...</td>\n",
       "      <td>https://s.gr-assets.com/assets/nophoto/book/11...</td>\n",
       "      <td>the spanish dukes virgin bride innocent mistre...</td>\n",
       "    </tr>\n",
       "  </tbody>\n",
       "</table>\n",
       "<p>1782579 rows × 6 columns</p>\n",
       "</div>"
      ],
      "text/plain": [
       "          book_id                                              title  ratings  \\\n",
       "0         1333909                                        Good Harbor       10   \n",
       "1         7327624  The Unschooled Wizard (Sun Wolf and Starhawk, ...      140   \n",
       "2         6066819                               Best Friends Forever    51184   \n",
       "3          287140  Runic Astrology: Starcraft and Timekeeping in ...       15   \n",
       "4          287141                      The Aeneid for Boys and Girls       46   \n",
       "...           ...                                                ...      ...   \n",
       "1782574   3084038  This Sceptred Isle, Vol. 10: The Age of Victor...       12   \n",
       "1782575  26168430                Sherlock Holmes and the July Crisis        6   \n",
       "1782576   2342551           The Children's Classic Poetry Collection       36   \n",
       "1782577  22017381          101 Nights: Volume One (101 Nights, #1-3)       70   \n",
       "1782578  11419866  The Spanish Duke's Virgin Bride (Innocent Mist...        7   \n",
       "\n",
       "                                                       url  \\\n",
       "0        https://www.goodreads.com/book/show/1333909.Go...   \n",
       "1        https://www.goodreads.com/book/show/7327624-th...   \n",
       "2        https://www.goodreads.com/book/show/6066819-be...   \n",
       "3        https://www.goodreads.com/book/show/287140.Run...   \n",
       "4        https://www.goodreads.com/book/show/287141.The...   \n",
       "...                                                    ...   \n",
       "1782574  https://www.goodreads.com/book/show/3084038-th...   \n",
       "1782575  https://www.goodreads.com/book/show/26168430-s...   \n",
       "1782576  https://www.goodreads.com/book/show/2342551.Th...   \n",
       "1782577  https://www.goodreads.com/book/show/22017381-1...   \n",
       "1782578  https://www.goodreads.com/book/show/11419866-t...   \n",
       "\n",
       "                                               cover_image  \\\n",
       "0        https://s.gr-assets.com/assets/nophoto/book/11...   \n",
       "1        https://images.gr-assets.com/books/1304100136m...   \n",
       "2        https://s.gr-assets.com/assets/nophoto/book/11...   \n",
       "3        https://images.gr-assets.com/books/1413219371m...   \n",
       "4        https://s.gr-assets.com/assets/nophoto/book/11...   \n",
       "...                                                    ...   \n",
       "1782574  https://images.gr-assets.com/books/1494763458m...   \n",
       "1782575  https://images.gr-assets.com/books/1440592011m...   \n",
       "1782576  https://s.gr-assets.com/assets/nophoto/book/11...   \n",
       "1782577  https://images.gr-assets.com/books/1398621236m...   \n",
       "1782578  https://s.gr-assets.com/assets/nophoto/book/11...   \n",
       "\n",
       "                                                 mod_title  \n",
       "0                                              good harbor  \n",
       "1           the unschooled wizard sun wolf and starhawk 12  \n",
       "2                                     best friends forever  \n",
       "3        runic astrology starcraft and timekeeping in t...  \n",
       "4                            the aeneid for boys and girls  \n",
       "...                                                    ...  \n",
       "1782574  this sceptred isle vol 10 the age of victoria ...  \n",
       "1782575                sherlock holmes and the july crisis  \n",
       "1782576            the childrens classic poetry collection  \n",
       "1782577                101 nights volume one 101 nights 13  \n",
       "1782578  the spanish dukes virgin bride innocent mistre...  \n",
       "\n",
       "[1782579 rows x 6 columns]"
      ]
     },
     "execution_count": 14,
     "metadata": {},
     "output_type": "execute_result"
    }
   ],
   "source": [
    "titles"
   ]
  },
  {
   "cell_type": "code",
   "execution_count": 15,
   "id": "3896d178-88e4-43df-a479-2fa538acbbf5",
   "metadata": {},
   "outputs": [],
   "source": [
    "from sklearn.feature_extraction.text import TfidfVectorizer\n",
    "vectorizer = TfidfVectorizer()\n",
    "\n",
    "tfidf = vectorizer.fit_transform(titles[\"mod_title\"])"
   ]
  },
  {
   "cell_type": "code",
   "execution_count": 16,
   "id": "416b804e-758f-43d2-99ea-904199d6d52c",
   "metadata": {},
   "outputs": [],
   "source": [
    "from sklearn.metrics.pairwise import cosine_similarity\n",
    "import numpy as np\n",
    "import re\n",
    "\n",
    "def make_clickable(val):\n",
    "    return '<a target=\"_blank\" href=\"{}\">Goodreads</a>'.format(val, val)\n",
    "\n",
    "def show_image(val):\n",
    "    return '<a href=\"{}\"><img src=\"{}\" width=50></img></a>'.format(val, val)\n",
    "\n",
    "def search(query,vectorizer):\n",
    "    processed = re.sub(\"[^a-zA-Z0-9 ]\", \"\", query.lower())\n",
    "    query_vec = vectorizer.transform([query])\n",
    "    similarity = cosine_similarity(query_vec, tfidf).flatten()\n",
    "    indices = np.argpartition(similarity, -10)[-10:]\n",
    "    results = titles.iloc[indices]\n",
    "    results = results.sort_values(\"ratings\", ascending=False)\n",
    "    \n",
    "    return results.head(5).style.format({'url': make_clickable, 'cover_image': show_image})"
   ]
  },
  {
   "cell_type": "code",
   "execution_count": 17,
   "id": "15d5ff6a-549c-45a7-994b-05176e61cd7d",
   "metadata": {},
   "outputs": [
    {
     "data": {
      "text/html": [
       "<style type=\"text/css\">\n",
       "</style>\n",
       "<table id=\"T_51a51\">\n",
       "  <thead>\n",
       "    <tr>\n",
       "      <th class=\"blank level0\" >&nbsp;</th>\n",
       "      <th id=\"T_51a51_level0_col0\" class=\"col_heading level0 col0\" >book_id</th>\n",
       "      <th id=\"T_51a51_level0_col1\" class=\"col_heading level0 col1\" >title</th>\n",
       "      <th id=\"T_51a51_level0_col2\" class=\"col_heading level0 col2\" >ratings</th>\n",
       "      <th id=\"T_51a51_level0_col3\" class=\"col_heading level0 col3\" >url</th>\n",
       "      <th id=\"T_51a51_level0_col4\" class=\"col_heading level0 col4\" >cover_image</th>\n",
       "      <th id=\"T_51a51_level0_col5\" class=\"col_heading level0 col5\" >mod_title</th>\n",
       "    </tr>\n",
       "  </thead>\n",
       "  <tbody>\n",
       "    <tr>\n",
       "      <th id=\"T_51a51_level0_row0\" class=\"row_heading level0 row0\" >806134</th>\n",
       "      <td id=\"T_51a51_row0_col0\" class=\"data row0 col0\" >49116</td>\n",
       "      <td id=\"T_51a51_row0_col1\" class=\"data row0 col1\" >Harry Potter and the Prisoner of Azkaban (Harry Potter, #3)</td>\n",
       "      <td id=\"T_51a51_row0_col2\" class=\"data row0 col2\" >25324</td>\n",
       "      <td id=\"T_51a51_row0_col3\" class=\"data row0 col3\" ><a target=\"_blank\" href=\"https://www.goodreads.com/book/show/49116.Harry_Potter_and_the_Prisoner_of_Azkaban\">Goodreads</a></td>\n",
       "      <td id=\"T_51a51_row0_col4\" class=\"data row0 col4\" ><a href=\"https://images.gr-assets.com/books/1474170009m/49116.jpg\"><img src=\"https://images.gr-assets.com/books/1474170009m/49116.jpg\" width=50></img></a></td>\n",
       "      <td id=\"T_51a51_row0_col5\" class=\"data row0 col5\" >harry potter and the prisoner of azkaban harry potter 3</td>\n",
       "    </tr>\n",
       "    <tr>\n",
       "      <th id=\"T_51a51_level0_row1\" class=\"row_heading level0 row1\" >525899</th>\n",
       "      <td id=\"T_51a51_row1_col0\" class=\"data row1 col0\" >17347383</td>\n",
       "      <td id=\"T_51a51_row1_col1\" class=\"data row1 col1\" >Harry Potter and the Prisoner of Azkaban (Harry Potter, #3)</td>\n",
       "      <td id=\"T_51a51_row1_col2\" class=\"data row1 col2\" >3311</td>\n",
       "      <td id=\"T_51a51_row1_col3\" class=\"data row1 col3\" ><a target=\"_blank\" href=\"https://www.goodreads.com/book/show/17347383-harry-potter-and-the-prisoner-of-azkaban\">Goodreads</a></td>\n",
       "      <td id=\"T_51a51_row1_col4\" class=\"data row1 col4\" ><a href=\"https://images.gr-assets.com/books/1372534804m/17347383.jpg\"><img src=\"https://images.gr-assets.com/books/1372534804m/17347383.jpg\" width=50></img></a></td>\n",
       "      <td id=\"T_51a51_row1_col5\" class=\"data row1 col5\" >harry potter and the prisoner of azkaban harry potter 3</td>\n",
       "    </tr>\n",
       "    <tr>\n",
       "      <th id=\"T_51a51_level0_row2\" class=\"row_heading level0 row2\" >1236294</th>\n",
       "      <td id=\"T_51a51_row2_col0\" class=\"data row2 col0\" >28765183</td>\n",
       "      <td id=\"T_51a51_row2_col1\" class=\"data row2 col1\" >Harry Potter and the Prisoner of Azkaban</td>\n",
       "      <td id=\"T_51a51_row2_col2\" class=\"data row2 col2\" >3066</td>\n",
       "      <td id=\"T_51a51_row2_col3\" class=\"data row2 col3\" ><a target=\"_blank\" href=\"https://www.goodreads.com/book/show/28765183-harry-potter-and-the-prisoner-of-azkaban\">Goodreads</a></td>\n",
       "      <td id=\"T_51a51_row2_col4\" class=\"data row2 col4\" ><a href=\"https://s.gr-assets.com/assets/nophoto/book/111x148-bcc042a9c91a29c1d680899eff700a03.png\"><img src=\"https://s.gr-assets.com/assets/nophoto/book/111x148-bcc042a9c91a29c1d680899eff700a03.png\" width=50></img></a></td>\n",
       "      <td id=\"T_51a51_row2_col5\" class=\"data row2 col5\" >harry potter and the prisoner of azkaban</td>\n",
       "    </tr>\n",
       "    <tr>\n",
       "      <th id=\"T_51a51_level0_row3\" class=\"row_heading level0 row3\" >1484715</th>\n",
       "      <td id=\"T_51a51_row3_col0\" class=\"data row3 col0\" >13563640</td>\n",
       "      <td id=\"T_51a51_row3_col1\" class=\"data row3 col1\" >Harry Potter and the Prisoner of Azkaban (Harry Potter, #3)</td>\n",
       "      <td id=\"T_51a51_row3_col2\" class=\"data row3 col2\" >1101</td>\n",
       "      <td id=\"T_51a51_row3_col3\" class=\"data row3 col3\" ><a target=\"_blank\" href=\"https://www.goodreads.com/book/show/13563640-harry-potter-and-the-prisoner-of-azkaban\">Goodreads</a></td>\n",
       "      <td id=\"T_51a51_row3_col4\" class=\"data row3 col4\" ><a href=\"https://images.gr-assets.com/books/1334490122m/13563640.jpg\"><img src=\"https://images.gr-assets.com/books/1334490122m/13563640.jpg\" width=50></img></a></td>\n",
       "      <td id=\"T_51a51_row3_col5\" class=\"data row3 col5\" >harry potter and the prisoner of azkaban harry potter 3</td>\n",
       "    </tr>\n",
       "    <tr>\n",
       "      <th id=\"T_51a51_level0_row4\" class=\"row_heading level0 row4\" >343661</th>\n",
       "      <td id=\"T_51a51_row4_col0\" class=\"data row4 col0\" >1132457</td>\n",
       "      <td id=\"T_51a51_row4_col1\" class=\"data row4 col1\" >Harry Potter and the Prisoner of Azkaban (Harry Potter, #3)</td>\n",
       "      <td id=\"T_51a51_row4_col2\" class=\"data row4 col2\" >372</td>\n",
       "      <td id=\"T_51a51_row4_col3\" class=\"data row4 col3\" ><a target=\"_blank\" href=\"https://www.goodreads.com/book/show/1132457.Harry_Potter_and_the_Prisoner_of_Azkaban\">Goodreads</a></td>\n",
       "      <td id=\"T_51a51_row4_col4\" class=\"data row4 col4\" ><a href=\"https://images.gr-assets.com/books/1467363945m/1132457.jpg\"><img src=\"https://images.gr-assets.com/books/1467363945m/1132457.jpg\" width=50></img></a></td>\n",
       "      <td id=\"T_51a51_row4_col5\" class=\"data row4 col5\" >harry potter and the prisoner of azkaban harry potter 3</td>\n",
       "    </tr>\n",
       "  </tbody>\n",
       "</table>\n"
      ],
      "text/plain": [
       "<pandas.io.formats.style.Styler at 0x2a009c52f40>"
      ]
     },
     "execution_count": 17,
     "metadata": {},
     "output_type": "execute_result"
    }
   ],
   "source": [
    "search(\"harry potter and the prisoner of azkaban\", vectorizer)"
   ]
  },
  {
   "cell_type": "code",
   "execution_count": null,
   "id": "fc8cbd53-0cec-43cd-98aa-cfa107658491",
   "metadata": {},
   "outputs": [],
   "source": []
  }
 ],
 "metadata": {
  "kernelspec": {
   "display_name": "Python 3 (ipykernel)",
   "language": "python",
   "name": "python3"
  },
  "language_info": {
   "codemirror_mode": {
    "name": "ipython",
    "version": 3
   },
   "file_extension": ".py",
   "mimetype": "text/x-python",
   "name": "python",
   "nbconvert_exporter": "python",
   "pygments_lexer": "ipython3",
   "version": "3.9.12"
  }
 },
 "nbformat": 4,
 "nbformat_minor": 5
}
